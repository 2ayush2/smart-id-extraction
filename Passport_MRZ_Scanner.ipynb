{
  "cells": [
    {
      "cell_type": "markdown",
      "metadata": {
        "id": "JvtBEW2Upil4"
      },
      "source": [
        "<h1><center><b><font color='dark blue'>Passport MRZ Scanner   </font></b></center> </h1>"
      ]
    },
    {
      "cell_type": "code",
      "execution_count": 1,
      "metadata": {
        "colab": {
          "base_uri": "https://localhost:8080/"
        },
        "execution": {
          "iopub.execute_input": "2023-06-28T21:52:18.294955Z",
          "iopub.status.busy": "2023-06-28T21:52:18.294599Z",
          "iopub.status.idle": "2023-06-28T21:52:34.06861Z",
          "shell.execute_reply": "2023-06-28T21:52:34.067319Z",
          "shell.execute_reply.started": "2023-06-28T21:52:18.294926Z"
        },
        "id": "sh47Rcpzpil5",
        "outputId": "29f184ff-b8db-425b-ab0d-1329a4b5bc9f",
        "trusted": true
      },
      "outputs": [
        {
          "name": "stdout",
          "output_type": "stream",
          "text": [
            "Collecting imutils\n",
            "  Downloading imutils-0.5.4.tar.gz (17 kB)\n",
            "Building wheels for collected packages: imutils\n",
            "  Building wheel for imutils (setup.py): started\n",
            "  Building wheel for imutils (setup.py): finished with status 'done'\n",
            "  Created wheel for imutils: filename=imutils-0.5.4-py3-none-any.whl size=25891 sha256=010e48568d55c37aaacd7b53d0358d779e09a6f7f172eeb6bdc2c4d21e647f5b\n",
            "  Stored in directory: c:\\users\\user\\appdata\\local\\pip\\cache\\wheels\\85\\cf\\3a\\e265e975a1e7c7e54eb3692d6aa4e2e7d6a3945d29da46f2d7\n",
            "Successfully built imutils\n",
            "Installing collected packages: imutils\n",
            "Successfully installed imutils-0.5.4\n"
          ]
        },
        {
          "name": "stderr",
          "output_type": "stream",
          "text": [
            "WARNING: Ignoring invalid distribution -rotobuf (f:\\smart-id-extraction\\smartid-env\\lib\\site-packages)\n",
            "WARNING: Ignoring invalid distribution -illow (f:\\smart-id-extraction\\smartid-env\\lib\\site-packages)\n",
            "WARNING: Ignoring invalid distribution -addlepaddle (f:\\smart-id-extraction\\smartid-env\\lib\\site-packages)\n",
            "WARNING: Ignoring invalid distribution -rotobuf (f:\\smart-id-extraction\\smartid-env\\lib\\site-packages)\n",
            "WARNING: Ignoring invalid distribution -illow (f:\\smart-id-extraction\\smartid-env\\lib\\site-packages)\n",
            "WARNING: Ignoring invalid distribution -addlepaddle (f:\\smart-id-extraction\\smartid-env\\lib\\site-packages)\n",
            "WARNING: Ignoring invalid distribution -rotobuf (f:\\smart-id-extraction\\smartid-env\\lib\\site-packages)\n",
            "WARNING: Ignoring invalid distribution -illow (f:\\smart-id-extraction\\smartid-env\\lib\\site-packages)\n",
            "WARNING: Ignoring invalid distribution -addlepaddle (f:\\smart-id-extraction\\smartid-env\\lib\\site-packages)\n",
            "WARNING: Ignoring invalid distribution -rotobuf (f:\\smart-id-extraction\\smartid-env\\lib\\site-packages)\n",
            "WARNING: Ignoring invalid distribution -illow (f:\\smart-id-extraction\\smartid-env\\lib\\site-packages)\n",
            "WARNING: Ignoring invalid distribution -addlepaddle (f:\\smart-id-extraction\\smartid-env\\lib\\site-packages)\n",
            "WARNING: Ignoring invalid distribution -rotobuf (f:\\smart-id-extraction\\smartid-env\\lib\\site-packages)\n",
            "WARNING: Ignoring invalid distribution -illow (f:\\smart-id-extraction\\smartid-env\\lib\\site-packages)\n",
            "WARNING: Ignoring invalid distribution -addlepaddle (f:\\smart-id-extraction\\smartid-env\\lib\\site-packages)\n",
            "WARNING: Ignoring invalid distribution -rotobuf (f:\\smart-id-extraction\\smartid-env\\lib\\site-packages)\n",
            "WARNING: Ignoring invalid distribution -illow (f:\\smart-id-extraction\\smartid-env\\lib\\site-packages)\n",
            "WARNING: Ignoring invalid distribution -addlepaddle (f:\\smart-id-extraction\\smartid-env\\lib\\site-packages)\n",
            "WARNING: Ignoring invalid distribution -rotobuf (f:\\smart-id-extraction\\smartid-env\\lib\\site-packages)\n",
            "WARNING: Ignoring invalid distribution -illow (f:\\smart-id-extraction\\smartid-env\\lib\\site-packages)\n",
            "WARNING: Ignoring invalid distribution -addlepaddle (f:\\smart-id-extraction\\smartid-env\\lib\\site-packages)\n",
            "WARNING: You are using pip version 21.2.3; however, version 25.0.1 is available.\n",
            "You should consider upgrading via the 'F:\\smart-id-extraction\\smartid-env\\Scripts\\python.exe -m pip install --upgrade pip' command.\n"
          ]
        }
      ],
      "source": [
        "!pip install imutils"
      ]
    },
    {
      "cell_type": "code",
      "execution_count": null,
      "metadata": {
        "execution": {
          "iopub.execute_input": "2023-06-28T21:52:34.072918Z",
          "iopub.status.busy": "2023-06-28T21:52:34.072085Z",
          "iopub.status.idle": "2023-06-28T21:52:46.378757Z",
          "shell.execute_reply": "2023-06-28T21:52:46.377609Z",
          "shell.execute_reply.started": "2023-06-28T21:52:34.072886Z"
        },
        "id": "ofv-7DoOpil5",
        "trusted": true
      },
      "outputs": [],
      "source": [
        "!pip install readmrz"
      ]
    },
    {
      "cell_type": "markdown",
      "metadata": {
        "id": "BlR_o_Fhpil5"
      },
      "source": [
        "<h3><b><font color='darkblue'>Imports</font></b></h3>"
      ]
    },
    {
      "cell_type": "code",
      "execution_count": 2,
      "metadata": {
        "_cell_guid": "b1076dfc-b9ad-4769-8c92-a6c4dae69d19",
        "_uuid": "8f2839f25d086af736a60e9eeb907d3b93b6e0e5",
        "colab": {
          "base_uri": "https://localhost:8080/",
          "height": 383
        },
        "execution": {
          "iopub.execute_input": "2023-06-28T21:52:46.381181Z",
          "iopub.status.busy": "2023-06-28T21:52:46.380806Z",
          "iopub.status.idle": "2023-06-28T21:52:46.59663Z",
          "shell.execute_reply": "2023-06-28T21:52:46.595606Z",
          "shell.execute_reply.started": "2023-06-28T21:52:46.381146Z"
        },
        "id": "7dtpC6Eqpil6",
        "outputId": "33c2959c-df10-450e-9bb8-77ce391489f8",
        "trusted": true
      },
      "outputs": [],
      "source": [
        "import cv2\n",
        "import os\n",
        "import numpy as np\n",
        "import sys\n",
        "import imutils\n",
        "from imutils.contours import sort_contours\n",
        "from PIL import Image\n",
        "import pytesseract as tess\n",
        "import matplotlib.pyplot as plt\n",
        "from PIL import Image\n",
        "from readmrz import MrzDetector, MrzReader"
      ]
    },
    {
      "cell_type": "markdown",
      "metadata": {
        "id": "rwq3OZYCpil6"
      },
      "source": [
        "Iterate over all images and auto rotate them to normal position and save them at another directory"
      ]
    },
    {
      "cell_type": "code",
      "execution_count": null,
      "metadata": {
        "execution": {
          "iopub.execute_input": "2023-06-28T21:53:16.707815Z",
          "iopub.status.busy": "2023-06-28T21:53:16.707432Z",
          "iopub.status.idle": "2023-06-28T21:53:16.78753Z",
          "shell.execute_reply": "2023-06-28T21:53:16.786442Z",
          "shell.execute_reply.started": "2023-06-28T21:53:16.707787Z"
        },
        "id": "VRee-GOXpil6",
        "trusted": true
      },
      "outputs": [],
      "source": [
        "for i in os.listdir(\"/kaggle/input/passport-images/images\"):\n",
        "    print(i)\n",
        "    img = Image.open(\"/kaggle/input/passport-images/images/\"+i)\n",
        "    #img.save(\"C:\\\\Users\\\\Abduallah Hussien\\\\Desktop\\\\Cyshield Tasks\\\\Assignment\\\\Computer vision\\\\Task1\\\\images at normal position\\\\{}.png\".format(i.split('.')[0]))"
      ]
    },
    {
      "cell_type": "markdown",
      "metadata": {
        "id": "_MUj7Q0Ipil6"
      },
      "source": [
        "Take one image as a sample to get the output image after each preprocessing step"
      ]
    },
    {
      "cell_type": "code",
      "execution_count": null,
      "metadata": {
        "execution": {
          "iopub.execute_input": "2023-06-28T21:53:30.530483Z",
          "iopub.status.busy": "2023-06-28T21:53:30.529421Z",
          "iopub.status.idle": "2023-06-28T21:53:31.067407Z",
          "shell.execute_reply": "2023-06-28T21:53:31.066541Z",
          "shell.execute_reply.started": "2023-06-28T21:53:30.530448Z"
        },
        "id": "jmD_56--pil7",
        "trusted": true
      },
      "outputs": [],
      "source": [
        "detector = MrzDetector()\n",
        "reader = MrzReader()\n",
        "# 🔹 1. Replace with your local image path\n",
        "image = r\"C:\\Users\\YourUsername\\Desktop\\passport_sample.jpg\"  # ← Change this\n",
        "#plt.title('Original Image')\n",
        "plt.imshow(image)"
      ]
    },
    {
      "cell_type": "markdown",
      "metadata": {
        "id": "ZGIpIF0upil7"
      },
      "source": [
        "Image smoothing:\n",
        "It is useful for removing noise. It actually removes high frequency content (eg: noise, edges) from the image."
      ]
    },
    {
      "cell_type": "code",
      "execution_count": null,
      "metadata": {
        "execution": {
          "iopub.execute_input": "2023-06-28T21:53:33.604873Z",
          "iopub.status.busy": "2023-06-28T21:53:33.604473Z",
          "iopub.status.idle": "2023-06-28T21:53:33.987045Z",
          "shell.execute_reply": "2023-06-28T21:53:33.98621Z",
          "shell.execute_reply.started": "2023-06-28T21:53:33.604843Z"
        },
        "id": "OJzJxKU6pil7",
        "trusted": true
      },
      "outputs": [],
      "source": [
        "resized = detector.resize(image)\n",
        "smoothed = detector.smooth(resized)\n",
        "\n",
        "plt.title('Smoothed Image')\n",
        "plt.imshow(smoothed)\n",
        "plt.axis('off');"
      ]
    },
    {
      "cell_type": "markdown",
      "metadata": {
        "id": "Uom_pnF2pil8"
      },
      "source": [
        "Black hat:\n",
        "Operation is used to enhance dark objects of interest in a bright background."
      ]
    },
    {
      "cell_type": "code",
      "execution_count": null,
      "metadata": {
        "execution": {
          "iopub.execute_input": "2023-06-28T21:53:34.888036Z",
          "iopub.status.busy": "2023-06-28T21:53:34.887297Z",
          "iopub.status.idle": "2023-06-28T21:53:35.219235Z",
          "shell.execute_reply": "2023-06-28T21:53:35.218287Z",
          "shell.execute_reply.started": "2023-06-28T21:53:34.888006Z"
        },
        "id": "Vzk70Am1pil8",
        "trusted": true
      },
      "outputs": [],
      "source": [
        "dark = detector.find_dark_regions(smoothed)\n",
        "plt.title('Black-hat image')\n",
        "plt.imshow(dark)\n",
        "plt.axis('off');"
      ]
    },
    {
      "cell_type": "markdown",
      "metadata": {
        "id": "HiMkHVUtpil8"
      },
      "source": [
        "I used two methods of thresholding\n",
        "- thresholding using MrzDetector object\n",
        "- thresholding using OpenCV"
      ]
    },
    {
      "cell_type": "code",
      "execution_count": null,
      "metadata": {
        "execution": {
          "iopub.execute_input": "2023-06-28T21:53:35.903614Z",
          "iopub.status.busy": "2023-06-28T21:53:35.902706Z",
          "iopub.status.idle": "2023-06-28T21:53:35.908711Z",
          "shell.execute_reply": "2023-06-28T21:53:35.907705Z",
          "shell.execute_reply.started": "2023-06-28T21:53:35.903572Z"
        },
        "id": "gXQXBSFIpil8",
        "trusted": true
      },
      "outputs": [],
      "source": [
        "def threshold1(dark):\n",
        "    thresh = detector.apply_threshold(dark)\n",
        "\n",
        "    #plt.title('Otsu\\'s thresholding method')\n",
        "    #plt.imshow(thresh)\n",
        "    #plt.axis('off');\n",
        "    return thresh"
      ]
    },
    {
      "cell_type": "code",
      "execution_count": null,
      "metadata": {
        "execution": {
          "iopub.execute_input": "2023-06-28T21:53:36.210435Z",
          "iopub.status.busy": "2023-06-28T21:53:36.21009Z",
          "iopub.status.idle": "2023-06-28T21:53:36.219561Z",
          "shell.execute_reply": "2023-06-28T21:53:36.218444Z",
          "shell.execute_reply.started": "2023-06-28T21:53:36.210407Z"
        },
        "id": "sdw1zZpkpil8",
        "trusted": true
      },
      "outputs": [],
      "source": [
        "def threshold2(dark):\n",
        "    # compute the Scharr gradient of the blackhat image and scale the\n",
        "    # result into the range [0, 255]\n",
        "    grad = cv2.Sobel(dark, ddepth=cv2.CV_32F, dx=1, dy=0, ksize=-1)\n",
        "    grad = np.absolute(grad)\n",
        "    (minVal, maxVal) = (np.min(grad), np.max(grad))\n",
        "    grad = (grad - minVal) / (maxVal - minVal)\n",
        "    grad = (grad * 255).astype(\"uint8\")\n",
        "    # initialize a rectangular and square structuring kernel\n",
        "    rectKernel = cv2.getStructuringElement(cv2.MORPH_RECT,(25, 7))\n",
        "            # apply a closing operation using the rectangular kernel to close\n",
        "            # gaps in between letters -- then apply Otsu's thresholding method\n",
        "    sqKernel = cv2.getStructuringElement(\n",
        "                cv2.MORPH_RECT,\n",
        "                (21, 21)\n",
        "            )\n",
        "    grad = cv2.morphologyEx(grad, cv2.MORPH_CLOSE, rectKernel)\n",
        "    thresh = cv2.threshold(grad, 0, 255, cv2.THRESH_BINARY | cv2.THRESH_OTSU)[1]\n",
        "            # cv2.imshow(\"Rect Close\", thresh)\n",
        "\n",
        "            # perform another closing operation, this time using the square\n",
        "            # kernel to close gaps between lines of the MRZ, then perform a\n",
        "            # series of erosions to break apart connected components\n",
        "    thresh = cv2.morphologyEx(thresh, cv2.MORPH_CLOSE, sqKernel)\n",
        "    thresh = cv2.erode(thresh, None, iterations=2)\n",
        "    #plt.imshow(thresh)\n",
        "    return thresh"
      ]
    },
    {
      "cell_type": "code",
      "execution_count": null,
      "metadata": {
        "execution": {
          "iopub.execute_input": "2023-06-28T21:53:36.778965Z",
          "iopub.status.busy": "2023-06-28T21:53:36.778621Z",
          "iopub.status.idle": "2023-06-28T21:53:36.795793Z",
          "shell.execute_reply": "2023-06-28T21:53:36.794868Z",
          "shell.execute_reply.started": "2023-06-28T21:53:36.778938Z"
        },
        "id": "LCzGJetDpil8",
        "trusted": true
      },
      "outputs": [],
      "source": [
        "thresh = threshold2(dark)"
      ]
    },
    {
      "cell_type": "markdown",
      "metadata": {
        "id": "X935rExlpil8"
      },
      "source": [
        "Get the coordinates of expected Mrz"
      ]
    },
    {
      "cell_type": "code",
      "execution_count": null,
      "metadata": {
        "execution": {
          "iopub.execute_input": "2023-06-28T21:53:37.028744Z",
          "iopub.status.busy": "2023-06-28T21:53:37.028348Z",
          "iopub.status.idle": "2023-06-28T21:53:37.039919Z",
          "shell.execute_reply": "2023-06-28T21:53:37.038707Z",
          "shell.execute_reply.started": "2023-06-28T21:53:37.028696Z"
        },
        "id": "bNvl6-iPpil8",
        "trusted": true
      },
      "outputs": [],
      "source": [
        "y, y1, x, x1 = detector.find_coordinates(thresh, smoothed)\n",
        "print(y, y1, x, x1)"
      ]
    },
    {
      "cell_type": "markdown",
      "metadata": {
        "id": "Os-XgyE7pil9"
      },
      "source": [
        "Calculate width and height to draw our boundry box"
      ]
    },
    {
      "cell_type": "code",
      "execution_count": null,
      "metadata": {
        "execution": {
          "iopub.execute_input": "2023-06-28T21:53:37.551592Z",
          "iopub.status.busy": "2023-06-28T21:53:37.549832Z",
          "iopub.status.idle": "2023-06-28T21:53:37.556229Z",
          "shell.execute_reply": "2023-06-28T21:53:37.555348Z",
          "shell.execute_reply.started": "2023-06-28T21:53:37.551548Z"
        },
        "id": "TP0WePGcpil9",
        "trusted": true
      },
      "outputs": [],
      "source": [
        "w = x1 - x\n",
        "h = y1 - y"
      ]
    },
    {
      "cell_type": "code",
      "execution_count": null,
      "metadata": {
        "execution": {
          "iopub.execute_input": "2023-06-28T21:53:37.74263Z",
          "iopub.status.busy": "2023-06-28T21:53:37.740928Z",
          "iopub.status.idle": "2023-06-28T21:53:38.089856Z",
          "shell.execute_reply": "2023-06-28T21:53:38.087172Z",
          "shell.execute_reply.started": "2023-06-28T21:53:37.742587Z"
        },
        "id": "zhC_1K6Mpil9",
        "trusted": true
      },
      "outputs": [],
      "source": [
        "fig, ax = plt.subplots()\n",
        "ax.imshow(resized)\n",
        "\n",
        "rect = plt.Rectangle((x, y), w, h, linewidth=1, edgecolor='g', facecolor='none')\n",
        "ax.add_patch(rect)\n",
        "\n",
        "plt.title('Machine readable zone')\n",
        "plt.axis('off')\n",
        "plt.show();"
      ]
    },
    {
      "cell_type": "code",
      "execution_count": null,
      "metadata": {
        "execution": {
          "iopub.execute_input": "2023-06-28T21:53:38.092769Z",
          "iopub.status.busy": "2023-06-28T21:53:38.091741Z",
          "iopub.status.idle": "2023-06-28T21:53:38.195914Z",
          "shell.execute_reply": "2023-06-28T21:53:38.193973Z",
          "shell.execute_reply.started": "2023-06-28T21:53:38.092735Z"
        },
        "id": "a6xN94G_pil9",
        "trusted": true
      },
      "outputs": [],
      "source": [
        "plt.imshow(resized[y:y1, x:x1])\n",
        "plt.axis('off');"
      ]
    },
    {
      "cell_type": "markdown",
      "metadata": {
        "id": "N9hqloebpil9"
      },
      "source": [
        "Get the mrz code"
      ]
    },
    {
      "cell_type": "code",
      "execution_count": null,
      "metadata": {
        "execution": {
          "iopub.execute_input": "2023-06-28T21:53:38.682938Z",
          "iopub.status.busy": "2023-06-28T21:53:38.682595Z",
          "iopub.status.idle": "2023-06-28T21:53:39.311489Z",
          "shell.execute_reply": "2023-06-28T21:53:39.310412Z",
          "shell.execute_reply.started": "2023-06-28T21:53:38.682911Z"
        },
        "id": "r0A0_XdPpil9",
        "trusted": true
      },
      "outputs": [],
      "source": [
        "code = reader.read_mrz(resized[y:y1, x:x1])\n",
        "print(code)"
      ]
    },
    {
      "cell_type": "markdown",
      "metadata": {
        "id": "mxJj_-PYpil-"
      },
      "source": [
        "Get all traveler information from the mrz code"
      ]
    },
    {
      "cell_type": "code",
      "execution_count": null,
      "metadata": {
        "execution": {
          "iopub.execute_input": "2023-06-28T21:53:39.613409Z",
          "iopub.status.busy": "2023-06-28T21:53:39.612767Z",
          "iopub.status.idle": "2023-06-28T21:53:39.621945Z",
          "shell.execute_reply": "2023-06-28T21:53:39.621024Z",
          "shell.execute_reply.started": "2023-06-28T21:53:39.613371Z"
        },
        "id": "eH4n5Y_npil-",
        "trusted": true
      },
      "outputs": [],
      "source": [
        "reader.get_fields(code)"
      ]
    },
    {
      "cell_type": "code",
      "execution_count": null,
      "metadata": {
        "execution": {
          "iopub.execute_input": "2023-06-28T21:53:40.032603Z",
          "iopub.status.busy": "2023-06-28T21:53:40.031331Z",
          "iopub.status.idle": "2023-06-28T21:53:48.403807Z",
          "shell.execute_reply": "2023-06-28T21:53:48.402332Z",
          "shell.execute_reply.started": "2023-06-28T21:53:40.032566Z"
        },
        "id": "j0j84IcBpil-",
        "trusted": true
      },
      "outputs": [],
      "source": [
        "\n",
        "\n",
        "# 📚 Imports\n",
        "import cv2\n",
        "import os\n",
        "import numpy as np\n",
        "import imutils\n",
        "from imutils.contours import sort_contours\n",
        "from PIL import Image\n",
        "import matplotlib.pyplot as plt\n",
        "from readmrz import MrzDetector, MrzReader\n",
        "import json\n",
        "from pathlib import Path\n",
        "\n",
        "# 📁 Setup\n",
        "image_path = \"tests.jpeg\"  # <-- Your local image (must be in the same folder)\n",
        "output_folder = Path(\"ayuish\")\n",
        "output_folder.mkdir(parents=True, exist_ok=True)\n",
        "\n",
        "# 🧠 Initialize detector and reader\n",
        "detector = MrzDetector()\n",
        "reader = MrzReader()\n",
        "\n",
        "# 🔍 Load and process the image\n",
        "print(f\"Processing: {image_path}\")\n",
        "image = detector.read(image_path)\n",
        "resized = detector.resize(image)\n",
        "smoothed = detector.smooth(resized)\n",
        "dark = detector.find_dark_regions(smoothed)\n",
        "\n",
        "# 🔎 Threshold using method 2 (Scharr + Morphology)\n",
        "grad = cv2.Sobel(dark, ddepth=cv2.CV_32F, dx=1, dy=0, ksize=-1)\n",
        "grad = np.absolute(grad)\n",
        "grad = (grad - np.min(grad)) / (np.max(grad) - np.min(grad))\n",
        "grad = (grad * 255).astype(\"uint8\")\n",
        "\n",
        "rectKernel = cv2.getStructuringElement(cv2.MORPH_RECT, (25, 7))\n",
        "sqKernel = cv2.getStructuringElement(cv2.MORPH_RECT, (21, 21))\n",
        "\n",
        "grad = cv2.morphologyEx(grad, cv2.MORPH_CLOSE, rectKernel)\n",
        "thresh = cv2.threshold(grad, 0, 255, cv2.THRESH_BINARY | cv2.THRESH_OTSU)[1]\n",
        "thresh = cv2.morphologyEx(thresh, cv2.MORPH_CLOSE, sqKernel)\n",
        "thresh = cv2.erode(thresh, None, iterations=2)\n",
        "\n",
        "# 🧭 Find MRZ coordinates\n",
        "try:\n",
        "    y, y1, x, x1 = detector.find_coordinates(thresh, smoothed)\n",
        "    w = x1 - x\n",
        "    h = y1 - y\n",
        "except Exception as e:\n",
        "    print(f\"❌ Could not find MRZ in image: {e}\")\n",
        "    raise\n",
        "\n",
        "# 📦 Crop MRZ\n",
        "mrz_crop = resized[y:y1, x:x1]\n",
        "\n",
        "# 🧾 Extract MRZ Code and Fields\n",
        "code = reader.read_mrz(mrz_crop)\n",
        "fields = reader.get_fields(code)\n",
        "\n",
        "# 🖼️ Save MRZ crop\n",
        "Image.fromarray(mrz_crop).save(output_folder / \"mrz_crop.jpg\")\n",
        "\n",
        "# 📝 Save results to JSON\n",
        "result = {\n",
        "    \"image_name\": \"test.jpg\",\n",
        "    \"mrz_code\": code,\n",
        "    \"coordinates\": {\n",
        "        \"x\": int(x), \"x1\": int(x1), \"y\": int(y), \"y1\": int(y1),\n",
        "        \"width\": int(w), \"height\": int(h)\n",
        "    },\n",
        "    \"fields\": fields\n",
        "}\n",
        "\n",
        "with open(output_folder / \"result.json\", \"w\", encoding=\"utf-8\") as f:\n",
        "    json.dump(result, f, ensure_ascii=False, indent=4)\n",
        "\n",
        "# ✅ Show result\n",
        "plt.imshow(mrz_crop)\n",
        "plt.title(\"MRZ Crop\")\n",
        "plt.axis('off')\n",
        "plt.show()\n",
        "\n",
        "print(\"✅ Extraction complete! JSON and MRZ crop saved in 'ayuish' folder.\")\n"
      ]
    },
    {
      "cell_type": "code",
      "execution_count": null,
      "metadata": {
        "id": "4z01VvLSpil-"
      },
      "outputs": [],
      "source": []
    }
  ],
  "metadata": {
    "accelerator": "GPU",
    "colab": {
      "gpuType": "T4",
      "name": "Passport MRZ Scanner",
      "provenance": []
    },
    "kernelspec": {
      "display_name": "smartid-env",
      "language": "python",
      "name": "python3"
    },
    "language_info": {
      "codemirror_mode": {
        "name": "ipython",
        "version": 3
      },
      "file_extension": ".py",
      "mimetype": "text/x-python",
      "name": "python",
      "nbconvert_exporter": "python",
      "pygments_lexer": "ipython3",
      "version": "3.10.0"
    }
  },
  "nbformat": 4,
  "nbformat_minor": 0
}
